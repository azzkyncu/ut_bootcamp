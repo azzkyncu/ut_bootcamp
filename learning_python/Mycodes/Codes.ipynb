{
 "cells": [
  {
   "cell_type": "code",
   "execution_count": 11,
   "metadata": {
    "collapsed": true,
    "pycharm": {
     "name": "#%% Aritmetic Operation'\n",
     "is_executing": false
    }
   },
   "outputs": [
    {
     "name": "stdout",
     "text": [
      "30\n-10\n200\n0.5\n125\n2\n3\n"
     ],
     "output_type": "stream"
    }
   ],
   "source": [
    "num1 = 10\n",
    "num2 = 20 \n",
    "print(num1+num2)\n",
    "print(num1-num2)\n",
    "print(num1*num2)\n",
    "print(num1/num2)\n",
    "print(5**3)\n",
    "print(20%3)\n",
    "print(22//7)\n"
   ]
  },
  {
   "cell_type": "code",
   "execution_count": 13,
   "outputs": [
    {
     "name": "stdout",
     "text": [
      "30\n50\n"
     ],
     "output_type": "stream"
    }
   ],
   "source": [
    "num3 = num1 + num2\n",
    "print(num3)\n",
    "num3 +=num2\n",
    "print(num3)\n",
    "\n"
   ],
   "metadata": {
    "collapsed": false,
    "pycharm": {
     "name": "#%% ASSIGNMENT OPERATORS \n",
     "is_executing": false
    }
   }
  },
  {
   "cell_type": "code",
   "execution_count": 17,
   "outputs": [
    {
     "name": "stdout",
     "text": [
      "True\nFalse\nTrue\nFalse\nTrue\nFalse\n"
     ],
     "output_type": "stream"
    }
   ],
   "source": [
    "print(num3 > num2)\n",
    "print(num2 == num3)\n",
    "print(num1 != num2)\n",
    "\n",
    "# LOGICAL OPERATIONS \n",
    "x = True \n",
    "y = False\n",
    "print(x and y)\n",
    "print(x or y)\n",
    "print(not x)\n"
   ],
   "metadata": {
    "collapsed": false,
    "pycharm": {
     "name": "#%% COMPARISON OPERATOR \n",
     "is_executing": false
    }
   }
  },
  {
   "cell_type": "code",
   "execution_count": 1,
   "outputs": [
    {
     "name": "stdout",
     "text": [
      "2\n6\n4\n"
     ],
     "output_type": "stream"
    }
   ],
   "source": [
    "num4 = 6 #110\n",
    "num5 = 2 #010\n",
    "print(num4 & num5) # and\n",
    "print(num4 | num5) #or\n",
    "print(num4 ^ num5) #xor\n",
    " \n"
   ],
   "metadata": {
    "collapsed": false,
    "pycharm": {
     "name": "#%% BITWISE OPERATIONS 2^0, 2^1, 2^2, 2^3, 2^4, 2^5....\n",
     "is_executing": false
    }
   }
  },
  {
   "cell_type": "code",
   "execution_count": 21,
   "outputs": [
    {
     "name": "stdout",
     "text": [
      "False\nFalse\nTrue\n['Aziz', 'John', 2, 4, 5, 7]\n['Aziz', 'John', 2, 4, 5, 7, 'Sinem']\n"
     ],
     "output_type": "stream"
    }
   ],
   "source": [
    " x = 5\n",
    "print(x>5)\n",
    "print(x<5)\n",
    "print(x>3)\n",
    "\n",
    "# Membership operation \n",
    "\n",
    "# Data type \n",
    "# Immutable (numbers, strings, tuples)\n",
    "# Mutables (Lists, dictinaries, sets)\n",
    "\n",
    "# lISTS \n",
    "my_list = ['Aziz', 'John', 2, 4, 5, 7]\n",
    "print(my_list)\n",
    "len(my_list)\n",
    "my_list[0]\n",
    "my_list[-1]\n",
    "my_list.append('Sinem')\n",
    "print(my_list)"
   ],
   "metadata": {
    "collapsed": false,
    "pycharm": {
     "name": "#%% IDENTITY OPERATION\n",
     "is_executing": false
    }
   }
  },
  {
   "cell_type": "code",
   "execution_count": null,
   "outputs": [],
   "source": [
    "my_list2 = [3, 5, 7, 9]\n",
    "my_list2.append(10)\n",
    "print(my_list2)\n",
    "my_list2.append('Sebnem')\n",
    "print(my_list2)"
   ],
   "metadata": {
    "collapsed": false,
    "pycharm": {
     "name": "#%%\n"
    }
   }
  },
  {
   "cell_type": "code",
   "execution_count": 8,
   "outputs": [
    {
     "name": "stdout",
     "text": [
      "[2, 5, 7, 'Smith', 'Ethan', 'Bulut', 'Hasan']\n"
     ],
     "output_type": "stream"
    }
   ],
   "source": [
    "listem = [2, 5, 7, 'Smith', 'Ethan']\n",
    "listem.append('Bulut')\n",
    "listem.append('Hasan')\n",
    "print(listem)\n"
   ],
   "metadata": {
    "collapsed": false,
    "pycharm": {
     "name": "#%%\n",
     "is_executing": false
    }
   }
  },
  {
   "cell_type": "code",
   "execution_count": 34,
   "outputs": [
    {
     "name": "stdout",
     "text": [
      "{1: 'Aziz', 2: 'Ozlem', 3: 'Bulut', 4: 'Sebnem', 5: 'Sinem'}\n{1: 'Aziz', 2: 'Ozlem', 3: 'Bulut', 4: 'Sebnem', 5: 'Sinem', 6: 'Ayaz'}\n{2: 'Ozlem', 3: 'Bulut', 4: 'Sebnem', 5: 'Sinem', 6: 'Ayaz'}\n"
     ],
     "output_type": "stream"
    }
   ],
   "source": [
    "my_dic = {1:'Aziz', 2:'Ozlem', 3:'Bulut', 4:'Sebnem', 5:'Sinem'}\n",
    "print(my_dic)\n",
    "my_dic.get(5)\n",
    "my_dic.update({6:'Ayaz'})\n",
    "print(my_dic)\n",
    "my_dic.get(6)\n",
    "my_dic.pop(1)\n",
    "print(my_dic)\n"
   ],
   "metadata": {
    "collapsed": false,
    "pycharm": {
     "name": "#%% DICTINARIES \n",
     "is_executing": false
    }
   }
  },
  {
   "cell_type": "code",
   "execution_count": 7,
   "outputs": [
    {
     "name": "stdout",
     "text": [
      "{1, 2, 5, 7, 8, 10}\n{2, 5, 9, 11, 15, 20}\n{2, 5}\n{8, 1, 10, 7}\n{1, 2, 5, 7, 8, 9, 10, 11, 15, 20}\n"
     ],
     "output_type": "stream"
    }
   ],
   "source": [
    "my_set = {1,2, 5, 7, 10, 8, 2, 1}\n",
    "my_set1= {2, 5, 9, 11, 15, 20}\n",
    "print(my_set)\n",
    "print(my_set1)\n",
    "print(my_set & my_set1) # & means common values for both (intersection)\n",
    "print(my_set-my_set1)  # difference \n",
    "print(my_set|my_set1)  # union, combine them \n",
    "\n",
    "\n"
   ],
   "metadata": {
    "collapsed": false,
    "pycharm": {
     "name": "#%% SET \n",
     "is_executing": false
    }
   }
  },
  {
   "cell_type": "code",
   "execution_count": null,
   "outputs": [],
   "source": [
    "\n"
   ],
   "metadata": {
    "collapsed": false,
    "pycharm": {
     "name": "#%%\n"
    }
   }
  }
 ],
 "metadata": {
  "language_info": {
   "codemirror_mode": {
    "name": "ipython",
    "version": 2
   },
   "file_extension": ".py",
   "mimetype": "text/x-python",
   "name": "python",
   "nbconvert_exporter": "python",
   "pygments_lexer": "ipython2",
   "version": "2.7.6"
  },
  "kernelspec": {
   "name": "pycharm-2f515198",
   "language": "python",
   "display_name": "PyCharm (learning_python)"
  },
  "pycharm": {
   "stem_cell": {
    "cell_type": "raw",
    "source": [],
    "metadata": {
     "collapsed": false
    }
   }
  }
 },
 "nbformat": 4,
 "nbformat_minor": 0
}