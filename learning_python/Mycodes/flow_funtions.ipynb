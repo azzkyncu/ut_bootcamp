{
 "cells": [
  {
   "cell_type": "code",
   "execution_count": null,
   "outputs": [],
   "source": [],
   "metadata": {
    "collapsed": false,
    "pycharm": {
     "name": "#%%\n"
    }
   }
  },
  {
   "cell_type": "code",
   "execution_count": 18,
   "metadata": {
    "collapsed": true,
    "pycharm": {
     "name": "#%% if statement \n",
     "is_executing": false
    }
   },
   "outputs": [
    {
     "name": "stdout",
     "text": [
      "john' grade is A\n"
     ],
     "output_type": "stream"
    }
   ],
   "source": [
    "\n",
    "john = 90\n",
    "if john >=90:\n",
    "    print(\"john' grade is A\")\n",
    "elif (john <90) and (john >=80):\n",
    "    print( \"john' grade is B\")\n",
    "elif (john <80) and (john >=70):\n",
    "    print(\"john' grade is C\")\n",
    "elif (john <70) and (john >=60):\n",
    "    print(\"john' grade is D\")\n",
    "else: \n",
    "    print(\"john' grade is F\")\n",
    "\n",
    "\n"
   ]
  },
  {
   "cell_type": "code",
   "execution_count": 26,
   "outputs": [
    {
     "name": "stdout",
     "text": [
      "3\nfound\n3\nfound\n7\n9\n11\n18\n"
     ],
     "output_type": "stream"
    }
   ],
   "source": [
    " nums = [3, 5, 7, 9, 11, 18]\n",
    "for x in nums:\n",
    "    if x == 5:\n",
    "        print('found') \n",
    "        break \n",
    "    print(x)\n",
    "    \n",
    "nums = [3, 5, 7, 9, 11, 18]\n",
    "for x in nums:\n",
    "    if x == 5:\n",
    "        print('found') \n",
    "        continue\n",
    "    print(x)\n"
   ],
   "metadata": {
    "collapsed": false,
    "pycharm": {
     "name": "#%% for and while loops\n",
     "is_executing": false
    }
   }
  },
  {
   "cell_type": "code",
   "execution_count": 36,
   "outputs": [
    {
     "name": "stdout",
     "text": [
      "0\n1\n2\n3\n4\n5\n6\n7\n8\n9\n0\n1\n2\n3\n4\n5\n6\n7\n8\n9\n"
     ],
     "output_type": "stream"
    }
   ],
   "source": [
    "for i in(10):\n",
    "    print(i)\n",
    "    \n",
    "for m in range (10):\n",
    "    print(m)\n",
    "    "
   ],
   "metadata": {
    "collapsed": false,
    "pycharm": {
     "name": "#%%\n",
     "is_executing": false
    }
   }
  },
  {
   "cell_type": "code",
   "execution_count": 17,
   "outputs": [
    {
     "name": "stdout",
     "text": [
      "0\n1\n2\n3\n4\n5\n6\n7\n8\n9\n10\n"
     ],
     "output_type": "stream"
    }
   ],
   "source": [
    "k = 0\n",
    "while k < 11:\n",
    "    print(k)\n",
    "    k += 1\n",
    "  \n"
   ],
   "metadata": {
    "collapsed": false,
    "pycharm": {
     "name": "#%% \n",
     "is_executing": false
    }
   }
  },
  {
   "cell_type": "code",
   "execution_count": null,
   "outputs": [],
   "source": [
    "\n"
   ],
   "metadata": {
    "collapsed": false,
    "pycharm": {
     "name": "#%%\n"
    }
   }
  }
 ],
 "metadata": {
  "language_info": {
   "codemirror_mode": {
    "name": "ipython",
    "version": 2
   },
   "file_extension": ".py",
   "mimetype": "text/x-python",
   "name": "python",
   "nbconvert_exporter": "python",
   "pygments_lexer": "ipython2",
   "version": "2.7.6"
  },
  "kernelspec": {
   "name": "pycharm-2f515198",
   "language": "python",
   "display_name": "PyCharm (learning_python)"
  },
  "pycharm": {
   "stem_cell": {
    "cell_type": "raw",
    "source": [],
    "metadata": {
     "collapsed": false
    }
   }
  }
 },
 "nbformat": 4,
 "nbformat_minor": 0
}