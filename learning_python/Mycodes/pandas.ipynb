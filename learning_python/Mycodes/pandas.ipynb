{
 "cells": [
  {
   "cell_type": "code",
   "execution_count": 4,
   "outputs": [
    {
     "data": {
      "text/plain": "   col1  col2\n0     1     3\n1     2     4",
      "text/html": "<div>\n<style scoped>\n    .dataframe tbody tr th:only-of-type {\n        vertical-align: middle;\n    }\n\n    .dataframe tbody tr th {\n        vertical-align: top;\n    }\n\n    .dataframe thead th {\n        text-align: right;\n    }\n</style>\n<table border=\"1\" class=\"dataframe\">\n  <thead>\n    <tr style=\"text-align: right;\">\n      <th></th>\n      <th>col1</th>\n      <th>col2</th>\n    </tr>\n  </thead>\n  <tbody>\n    <tr>\n      <th>0</th>\n      <td>1</td>\n      <td>3</td>\n    </tr>\n    <tr>\n      <th>1</th>\n      <td>2</td>\n      <td>4</td>\n    </tr>\n  </tbody>\n</table>\n</div>"
     },
     "metadata": {},
     "output_type": "execute_result",
     "execution_count": 4
    }
   ],
   "source": [
    "import pandas as pd \n",
    "\n",
    "d = {'col1': [1, 2], 'col2': [3, 4]}\n",
    "df = pd.DataFrame(data=d)\n",
    "df.head()\n"
   ],
   "metadata": {
    "collapsed": false,
    "pycharm": {
     "name": "#%% \n",
     "is_executing": false
    }
   }
  },
  {
   "cell_type": "code",
   "execution_count": 9,
   "outputs": [
    {
     "traceback": [
      "\u001b[0;36m  File \u001b[0;32m\"<ipython-input-9-5607cb71acc1>\"\u001b[0;36m, line \u001b[0;32m3\u001b[0m\n\u001b[0;31m    columns=['a', 'b', 'c'])\u001b[0m\n\u001b[0m    ^\u001b[0m\n\u001b[0;31mIndentationError\u001b[0m\u001b[0;31m:\u001b[0m unexpected indent\n"
     ],
     "ename": "IndentationError",
     "evalue": "unexpected indent (<ipython-input-9-5607cb71acc1>, line 3)",
     "output_type": "error"
    }
   ],
   "source": [
    "\n",
    "df2 = pd.DataFrame([[1, 2, 3], [4, 5, 6], [7, 8, 9]]),\n",
    "           columns=['a', 'b', 'c'])\n",
    "df2.head()\n"
   ],
   "metadata": {
    "collapsed": false,
    "pycharm": {
     "name": "#%%\n",
     "is_executing": false
    }
   }
  },
  {
   "cell_type": "code",
   "execution_count": 15,
   "outputs": [
    {
     "data": {
      "text/plain": "   0\n0  1\n1  2\n2  3\n3  4\n4  5",
      "text/html": "<div>\n<style scoped>\n    .dataframe tbody tr th:only-of-type {\n        vertical-align: middle;\n    }\n\n    .dataframe tbody tr th {\n        vertical-align: top;\n    }\n\n    .dataframe thead th {\n        text-align: right;\n    }\n</style>\n<table border=\"1\" class=\"dataframe\">\n  <thead>\n    <tr style=\"text-align: right;\">\n      <th></th>\n      <th>0</th>\n    </tr>\n  </thead>\n  <tbody>\n    <tr>\n      <th>0</th>\n      <td>1</td>\n    </tr>\n    <tr>\n      <th>1</th>\n      <td>2</td>\n    </tr>\n    <tr>\n      <th>2</th>\n      <td>3</td>\n    </tr>\n    <tr>\n      <th>3</th>\n      <td>4</td>\n    </tr>\n    <tr>\n      <th>4</th>\n      <td>5</td>\n    </tr>\n  </tbody>\n</table>\n</div>"
     },
     "metadata": {},
     "output_type": "execute_result",
     "execution_count": 15
    }
   ],
   "source": [
    "import pandas as pd\n",
    "data = [1,2,3,4,5]\n",
    "df3 = pd.DataFrame(data)\n",
    "df3.head()"
   ],
   "metadata": {
    "collapsed": false,
    "pycharm": {
     "name": "#%%\n",
     "is_executing": false
    }
   }
  },
  {
   "cell_type": "code",
   "execution_count": 20,
   "outputs": [
    {
     "data": {
      "text/plain": "    Name  Age\n0    Tom   28\n1   Jack   34\n2  Steve   29\n3  Ricky   42",
      "text/html": "<div>\n<style scoped>\n    .dataframe tbody tr th:only-of-type {\n        vertical-align: middle;\n    }\n\n    .dataframe tbody tr th {\n        vertical-align: top;\n    }\n\n    .dataframe thead th {\n        text-align: right;\n    }\n</style>\n<table border=\"1\" class=\"dataframe\">\n  <thead>\n    <tr style=\"text-align: right;\">\n      <th></th>\n      <th>Name</th>\n      <th>Age</th>\n    </tr>\n  </thead>\n  <tbody>\n    <tr>\n      <th>0</th>\n      <td>Tom</td>\n      <td>28</td>\n    </tr>\n    <tr>\n      <th>1</th>\n      <td>Jack</td>\n      <td>34</td>\n    </tr>\n    <tr>\n      <th>2</th>\n      <td>Steve</td>\n      <td>29</td>\n    </tr>\n    <tr>\n      <th>3</th>\n      <td>Ricky</td>\n      <td>42</td>\n    </tr>\n  </tbody>\n</table>\n</div>"
     },
     "metadata": {},
     "output_type": "execute_result",
     "execution_count": 20
    }
   ],
   "source": [
    "import pandas as pd\n",
    "data = {'Name':['Tom', 'Jack', 'Steve', 'Ricky'],'Age':[28,34,29,42]}\n",
    "df_1 = pd.DataFrame(data)\n",
    "df_1.head()"
   ],
   "metadata": {
    "collapsed": false,
    "pycharm": {
     "name": "#%%\n",
     "is_executing": false
    }
   }
  },
  {
   "cell_type": "code",
   "execution_count": 48,
   "outputs": [
    {
     "traceback": [
      "\u001b[0;31m---------------------------------------------------------------------------\u001b[0m",
      "\u001b[0;31mAttributeError\u001b[0m                            Traceback (most recent call last)",
      "\u001b[0;32m<ipython-input-48-3d4f45cc5dff>\u001b[0m in \u001b[0;36m<module>\u001b[0;34m\u001b[0m\n\u001b[1;32m      3\u001b[0m \u001b[0mdf11\u001b[0m\u001b[0;34m.\u001b[0m\u001b[0mhead\u001b[0m\u001b[0;34m(\u001b[0m\u001b[0;34m)\u001b[0m\u001b[0;34m\u001b[0m\u001b[0;34m\u001b[0m\u001b[0m\n\u001b[1;32m      4\u001b[0m \u001b[0;34m\u001b[0m\u001b[0m\n\u001b[0;32m----> 5\u001b[0;31m \u001b[0mdata_2\u001b[0m \u001b[0;34m=\u001b[0m \u001b[0mdata_1\u001b[0m\u001b[0;34m.\u001b[0m\u001b[0mappend\u001b[0m\u001b[0;34m(\u001b[0m\u001b[0;34m{\u001b[0m\u001b[0;34m'Ailem'\u001b[0m\u001b[0;34m:\u001b[0m \u001b[0;34m'Bulut'\u001b[0m\u001b[0;34m,\u001b[0m \u001b[0;34m'Yas'\u001b[0m\u001b[0;34m:\u001b[0m \u001b[0;36m1\u001b[0m\u001b[0;34m}\u001b[0m\u001b[0;34m,\u001b[0m \u001b[0mignore_index\u001b[0m\u001b[0;34m=\u001b[0m\u001b[0;32mTrue\u001b[0m\u001b[0;34m)\u001b[0m\u001b[0;34m\u001b[0m\u001b[0;34m\u001b[0m\u001b[0m\n\u001b[0m\u001b[1;32m      6\u001b[0m \u001b[0mdf_22\u001b[0m \u001b[0;34m=\u001b[0m \u001b[0mpd\u001b[0m\u001b[0;34m.\u001b[0m\u001b[0mDataFrame\u001b[0m\u001b[0;34m(\u001b[0m\u001b[0mdata_2\u001b[0m\u001b[0;34m)\u001b[0m\u001b[0;34m\u001b[0m\u001b[0;34m\u001b[0m\u001b[0m\n\u001b[1;32m      7\u001b[0m \u001b[0;34m\u001b[0m\u001b[0m\n",
      "\u001b[0;31mAttributeError\u001b[0m: 'dict' object has no attribute 'append'"
     ],
     "ename": "AttributeError",
     "evalue": "'dict' object has no attribute 'append'",
     "output_type": "error"
    }
   ],
   "source": [
    " data_1 = {'Ailem': ['Aziz', 'Sinem', 'Sebnem', 'Ozlem'], 'Yas': [34, 7, 5, 25]}\n",
    " df11 = pd.DataFrame(data_1)\n",
    " df11.head()\n",
    " \n",
    "data_1.append({'Ailem': 'Bulut', 'Yas': 1}, ignore_index=True)\n",
    "df_22 = pd.DataFrame(data_2)\n",
    "\n",
    "df_22.head()\n"
   ],
   "metadata": {
    "collapsed": false,
    "pycharm": {
     "name": "#%%\n",
     "is_executing": false
    }
   }
  },
  {
   "cell_type": "code",
   "execution_count": 55,
   "outputs": [
    {
     "data": {
      "text/plain": "    Name  Age       City    Country\na   jack   34     Sydeny  Australia\nb   Riti   30      Delhi      India\nc  Vikas   31     Mumbai      India\nd  Neelu   32  Bangalore      India\ne   John   16   New York         US",
      "text/html": "<div>\n<style scoped>\n    .dataframe tbody tr th:only-of-type {\n        vertical-align: middle;\n    }\n\n    .dataframe tbody tr th {\n        vertical-align: top;\n    }\n\n    .dataframe thead th {\n        text-align: right;\n    }\n</style>\n<table border=\"1\" class=\"dataframe\">\n  <thead>\n    <tr style=\"text-align: right;\">\n      <th></th>\n      <th>Name</th>\n      <th>Age</th>\n      <th>City</th>\n      <th>Country</th>\n    </tr>\n  </thead>\n  <tbody>\n    <tr>\n      <th>a</th>\n      <td>jack</td>\n      <td>34</td>\n      <td>Sydeny</td>\n      <td>Australia</td>\n    </tr>\n    <tr>\n      <th>b</th>\n      <td>Riti</td>\n      <td>30</td>\n      <td>Delhi</td>\n      <td>India</td>\n    </tr>\n    <tr>\n      <th>c</th>\n      <td>Vikas</td>\n      <td>31</td>\n      <td>Mumbai</td>\n      <td>India</td>\n    </tr>\n    <tr>\n      <th>d</th>\n      <td>Neelu</td>\n      <td>32</td>\n      <td>Bangalore</td>\n      <td>India</td>\n    </tr>\n    <tr>\n      <th>e</th>\n      <td>John</td>\n      <td>16</td>\n      <td>New York</td>\n      <td>US</td>\n    </tr>\n  </tbody>\n</table>\n</div>"
     },
     "metadata": {},
     "output_type": "execute_result",
     "execution_count": 55
    }
   ],
   "source": [
    "students = [ ('jack', 34, 'Sydeny' , 'Australia') ,\n",
    "             ('Riti', 30, 'Delhi' , 'India' ) ,\n",
    "             ('Vikas', 31, 'Mumbai' , 'India' ) ,\n",
    "             ('Neelu', 32, 'Bangalore' , 'India' ) ,\n",
    "             ('John', 16, 'New York' , 'US') ,\n",
    "             ('Mike', 17, 'las vegas' , 'US')  ]\n",
    "df = pd.DataFrame(students, columns = ['Name' , 'Age', 'City' , 'Country'], index=['a', 'b', 'c' , 'd' , 'e' , 'f']) \n",
    "\n",
    "df.head()"
   ],
   "metadata": {
    "collapsed": false,
    "pycharm": {
     "name": "#%%\n",
     "is_executing": false
    }
   }
  },
  {
   "cell_type": "code",
   "execution_count": 74,
   "outputs": [
    {
     "data": {
      "text/plain": "    Ailem  Yas   Goz Rengi\na    Aziz   34        Mavi\nb   Sinem    7       Siyah\nc  Sebnem    5  Kahverengi\nd   Ozlem   25       Yesil",
      "text/html": "<div>\n<style scoped>\n    .dataframe tbody tr th:only-of-type {\n        vertical-align: middle;\n    }\n\n    .dataframe tbody tr th {\n        vertical-align: top;\n    }\n\n    .dataframe thead th {\n        text-align: right;\n    }\n</style>\n<table border=\"1\" class=\"dataframe\">\n  <thead>\n    <tr style=\"text-align: right;\">\n      <th></th>\n      <th>Ailem</th>\n      <th>Yas</th>\n      <th>Goz Rengi</th>\n    </tr>\n  </thead>\n  <tbody>\n    <tr>\n      <th>a</th>\n      <td>Aziz</td>\n      <td>34</td>\n      <td>Mavi</td>\n    </tr>\n    <tr>\n      <th>b</th>\n      <td>Sinem</td>\n      <td>7</td>\n      <td>Siyah</td>\n    </tr>\n    <tr>\n      <th>c</th>\n      <td>Sebnem</td>\n      <td>5</td>\n      <td>Kahverengi</td>\n    </tr>\n    <tr>\n      <th>d</th>\n      <td>Ozlem</td>\n      <td>25</td>\n      <td>Yesil</td>\n    </tr>\n  </tbody>\n</table>\n</div>"
     },
     "metadata": {},
     "output_type": "execute_result",
     "execution_count": 74
    }
   ],
   "source": [
    "\n",
    "koyuncu = {'Ailem': ['Aziz', 'Sinem', 'Sebnem', 'Ozlem'], 'Yas': [34, 7, 5, 25], 'Goz Rengi':['Mavi', 'Siyah', 'Kahverengi','Yesil'] }\n",
    "df12 = pd.DataFrame(koyuncu, columns = ['Ailem', 'Yas','Goz Rengi'], index = ['a','b','c','d'])\n",
    "df12.head()\n",
    " "
   ],
   "metadata": {
    "collapsed": false,
    "pycharm": {
     "name": "#%%\n",
     "is_executing": false
    }
   }
  },
  {
   "cell_type": "code",
   "execution_count": 75,
   "outputs": [
    {
     "name": "stdout",
     "text": [
      "I love Ozlem\n"
     ],
     "output_type": "stream"
    }
   ],
   "source": [
    "print(\"I love Ozlem\")"
   ],
   "metadata": {
    "collapsed": false,
    "pycharm": {
     "name": "#%%\n",
     "is_executing": false
    }
   }
  },
  {
   "cell_type": "code",
   "execution_count": 76,
   "outputs": [
    {
     "name": "stdout",
     "text": [
      "26\n"
     ],
     "output_type": "stream"
    }
   ],
   "source": [
    "Ozlem = 26\n",
    "print(Ozlem)"
   ],
   "metadata": {
    "collapsed": false,
    "pycharm": {
     "name": "#%%\n",
     "is_executing": false
    }
   }
  },
  {
   "cell_type": "code",
   "execution_count": 81,
   "outputs": [
    {
     "data": {
      "text/plain": "  Erkek koyun  Yas\nK           a    1\nL           b    2\nM           c    3",
      "text/html": "<div>\n<style scoped>\n    .dataframe tbody tr th:only-of-type {\n        vertical-align: middle;\n    }\n\n    .dataframe tbody tr th {\n        vertical-align: top;\n    }\n\n    .dataframe thead th {\n        text-align: right;\n    }\n</style>\n<table border=\"1\" class=\"dataframe\">\n  <thead>\n    <tr style=\"text-align: right;\">\n      <th></th>\n      <th>Erkek koyun</th>\n      <th>Yas</th>\n    </tr>\n  </thead>\n  <tbody>\n    <tr>\n      <th>K</th>\n      <td>a</td>\n      <td>1</td>\n    </tr>\n    <tr>\n      <th>L</th>\n      <td>b</td>\n      <td>2</td>\n    </tr>\n    <tr>\n      <th>M</th>\n      <td>c</td>\n      <td>3</td>\n    </tr>\n  </tbody>\n</table>\n</div>"
     },
     "metadata": {},
     "output_type": "execute_result",
     "execution_count": 81
    }
   ],
   "source": [
    "koyun = {'Erkek koyun': ['a', 'b', 'c'], 'Yas': [1, 2, 3]}\n",
    "dff= pd.DataFrame(koyun, columns = ['Erkek koyun','Yas'], index = ['K', 'L', 'M'])\n",
    "dff.head()"
   ],
   "metadata": {
    "collapsed": false,
    "pycharm": {
     "name": "#%%\n",
     "is_executing": false
    }
   }
  },
  {
   "cell_type": "code",
   "execution_count": null,
   "outputs": [],
   "source": [
    "\n"
   ],
   "metadata": {
    "collapsed": false,
    "pycharm": {
     "name": "#%%\n"
    }
   }
  }
 ],
 "metadata": {
  "language_info": {
   "codemirror_mode": {
    "name": "ipython",
    "version": 2
   },
   "file_extension": ".py",
   "mimetype": "text/x-python",
   "name": "python",
   "nbconvert_exporter": "python",
   "pygments_lexer": "ipython2",
   "version": "2.7.6"
  },
  "kernelspec": {
   "name": "pycharm-2f515198",
   "language": "python",
   "display_name": "PyCharm (learning_python)"
  },
  "pycharm": {
   "stem_cell": {
    "cell_type": "raw",
    "source": [],
    "metadata": {
     "collapsed": false
    }
   }
  }
 },
 "nbformat": 4,
 "nbformat_minor": 0
}