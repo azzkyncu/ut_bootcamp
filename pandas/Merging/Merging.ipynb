{
 "cells": [],
 "metadata": {
  "language_info": {
   "codemirror_mode": {
    "name": "ipython",
    "version": 2
   },
   "file_extension": ".py",
   "mimetype": "text/x-python",
   "name": "python",
   "nbconvert_exporter": "python",
   "pygments_lexer": "ipython2",
   "version": "2.7.6"
  },
  "kernelspec": {
   "name": "python3",
   "language": "python",
   "display_name": "Python 3"
  },
  "pycharm": {
   "stem_cell": {
    "cell_type": "raw",
    "source": [
     "import pandas as pd\n",
     "\n",
     "raw_data_info = {\"customer id\": [112, 403, 999. 543, 123], \"name\": [\"John\", \"Kelly\", \"Sam\" , \"April\", \"Bobbo\"], \"email\": [ \"jman@gmail.com\", \"kelly@gmail.com\", \"x@gmail.com\", \"y@gmail.com\"]}\n",
     "\n",
     "info_pd = pd.DataFrame(raw_data_info, columns = [\"customer_id\", \"name'', \"email\"])\n",
     "\n",
     "print(info_pd) \n"
    ],
    "metadata": {
     "collapsed": false
    }
   }
  }
 },
 "nbformat": 4,
 "nbformat_minor": 0
}